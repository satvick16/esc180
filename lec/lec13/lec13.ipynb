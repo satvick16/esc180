{
 "cells": [
  {
   "cell_type": "code",
   "execution_count": null,
   "metadata": {},
   "outputs": [],
   "source": [
    "# expression vs. literal\n",
    "\n",
    "# Python will not make a copy of \"ESC180\", a and b will point to the same memory address\n",
    "# this saves space\n",
    "a = \"ESC180\"\n",
    "b = \"ESC180\"\n",
    "\n",
    "# Python allocates different memory locations for these\n",
    "# f has a unique memory address (different from a, b, d and e)\n",
    "d = \"ESC\"\n",
    "e = \"180\"\n",
    "f = d + e\n",
    "\n",
    "# each number gets its own memory location and the list itself has a distinct \n",
    "# memory block that contains a list of the memory addresses of the elements\n",
    "L1 = [1, 2, 300]\n",
    "\n",
    "# L2 will not be at the same memory location as L1 but it's contents will be identical\n",
    "L2 = [1, 2, 300]\n",
    "\n",
    "# now L2 and L1 will point to the same memory address and changes in each will affect the other\n",
    "L1[0] = 2\n",
    "L2 = L1\n",
    "L2[1] = 1"
   ]
  },
  {
   "cell_type": "code",
   "execution_count": null,
   "metadata": {},
   "outputs": [],
   "source": [
    "L1 = [1, 2]\n",
    "L2 = [4, 5]\n",
    "\n",
    "# a new list is created of value \"L1 + L2\" and L points to that memory location\n",
    "L = L1 + L2\n",
    "\n",
    "# different\n",
    "L1.extend(L2)\n",
    "L1 = L1 + L2\n",
    "\n",
    "# L1 += L2 is the same as L1.extend(L2)\n",
    "\n",
    "def add_lists_bad(L1, L2):\n",
    "    L1 = L1 + L2\n",
    "\n",
    "def add_lists_good(L1, L2):\n",
    "    L1.extend(L2)"
   ]
  }
 ],
 "metadata": {
  "language_info": {
   "name": "python"
  },
  "orig_nbformat": 4
 },
 "nbformat": 4,
 "nbformat_minor": 2
}
