{
 "cells": [
  {
   "cell_type": "code",
   "execution_count": 1,
   "source": [
    "L = [1, 5, 3, 4]\r\n",
    "\r\n",
    "L.sort()\r\n",
    "\r\n",
    "for i in range(1, len(L)):\r\n",
    "    if L[i] - 1 != L[i-1]:\r\n",
    "        print(L[i-1] + 1)\r\n"
   ],
   "outputs": [
    {
     "output_type": "stream",
     "name": "stdout",
     "text": [
      "2\n"
     ]
    }
   ],
   "metadata": {}
  }
 ],
 "metadata": {
  "orig_nbformat": 4,
  "language_info": {
   "name": "python",
   "version": "3.8.5",
   "mimetype": "text/x-python",
   "codemirror_mode": {
    "name": "ipython",
    "version": 3
   },
   "pygments_lexer": "ipython3",
   "nbconvert_exporter": "python",
   "file_extension": ".py"
  },
  "kernelspec": {
   "name": "python3",
   "display_name": "Python 3.8.5 32-bit"
  },
  "interpreter": {
   "hash": "0ecbd8382a990ed695d0ddab139c08db5731c21f09dcf1474fd853a017ac65b1"
  }
 },
 "nbformat": 4,
 "nbformat_minor": 2
}