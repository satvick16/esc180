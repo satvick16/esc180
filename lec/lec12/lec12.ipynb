{
 "cells": [
  {
   "cell_type": "code",
   "execution_count": 2,
   "source": [
    "# memory table\r\n",
    "# address      value\r\n",
    "# ------------------\r\n",
    "# 0\r\n",
    "# 4             42\r\n",
    "# 8\r\n",
    "# 12            [1,2,3]\r\n",
    "\r\n",
    "# variable table\r\n",
    "# variable      address\r\n",
    "# ----------------------\r\n",
    "# n              4\r\n",
    "# m              4\r\n",
    "# L              12\r\n",
    "# L1             12\r\n",
    "\r\n",
    "n = 42\r\n",
    "m = n\r\n",
    "\r\n",
    "print(id(n)) # address of\r\n",
    "print(id(m))\r\n",
    "\r\n",
    "L = [1, 2, 3]\r\n",
    "L1 = L\r\n",
    "\r\n",
    "L1[0] = 5\r\n",
    "print(L1)\r\n",
    "print(L)\r\n",
    "\r\n",
    "# L and L1 are aliases of each other\r\n",
    "\r\n",
    "# objects whose contents you can change are mutable\r\n",
    "# '''''''''''''''''''''''''' cannot change are immutable\r\n"
   ],
   "outputs": [
    {
     "output_type": "stream",
     "name": "stdout",
     "text": [
      "1790290496\n",
      "1790290496\n"
     ]
    }
   ],
   "metadata": {}
  }
 ],
 "metadata": {
  "orig_nbformat": 4,
  "language_info": {
   "name": "python",
   "version": "3.8.5",
   "mimetype": "text/x-python",
   "codemirror_mode": {
    "name": "ipython",
    "version": 3
   },
   "pygments_lexer": "ipython3",
   "nbconvert_exporter": "python",
   "file_extension": ".py"
  },
  "kernelspec": {
   "name": "python3",
   "display_name": "Python 3.8.5 32-bit"
  },
  "interpreter": {
   "hash": "0ecbd8382a990ed695d0ddab139c08db5731c21f09dcf1474fd853a017ac65b1"
  }
 },
 "nbformat": 4,
 "nbformat_minor": 2
}