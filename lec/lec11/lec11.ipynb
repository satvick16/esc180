{
 "cells": [
  {
   "cell_type": "code",
   "execution_count": 2,
   "source": [
    "# L contains 1..n except for some k\r\n",
    "# find k efficiently\r\n",
    "\r\n",
    "def missing_k_efficient(L):\r\n",
    "    n = len(L) + 1\r\n",
    "    cur_sum = sum(L)\r\n",
    "    \r\n",
    "    return n*(n+1)/2 - cur_sum\r\n",
    "\r\n",
    "L = [1, 5, 3, 4]\r\n",
    "\r\n",
    "print(missing_k_efficient(L))"
   ],
   "outputs": [
    {
     "output_type": "stream",
     "name": "stdout",
     "text": [
      "2.0\n"
     ]
    }
   ],
   "metadata": {}
  },
  {
   "cell_type": "code",
   "execution_count": null,
   "source": [
    "def first_even(L):\r\n",
    "    for e in L:\r\n",
    "        if e % 2 == 0:\r\n",
    "            return e\r\n",
    "\r\n",
    "def first_two_evens(L):\r\n",
    "    res = []\r\n",
    "\r\n",
    "    for e in L:\r\n",
    "        if e % 2 == 0:\r\n",
    "            res.append(e)\r\n",
    "    \r\n",
    "    return res[:2]\r\n",
    "\r\n",
    "def first_two_evens_efficient(L):\r\n",
    "    res = []\r\n",
    "    count = 0\r\n",
    "\r\n",
    "    for e in L:\r\n",
    "        if e % 2 == 0:\r\n",
    "            count += 1\r\n",
    "            res.append(e)\r\n",
    "\r\n",
    "            if count == 2:\r\n",
    "                return res"
   ],
   "outputs": [],
   "metadata": {}
  },
  {
   "cell_type": "code",
   "execution_count": 6,
   "source": [
    "def login(username, password):\r\n",
    "    return username == \"guerzhoy\" and password == \"adbc\"\r\n",
    "\r\n",
    "# try every possiblee password and print the correct password for guerzhoy\r\n",
    "# assume length 4\r\n",
    "\r\n",
    "break_now = False\r\n",
    "\r\n",
    "for letter1 in ['a', 'b', 'c', 'd', 'e', 'f']:\r\n",
    "    if break_now:\r\n",
    "        break\r\n",
    "    for letter2 in ['a', 'b', 'c', 'd', 'e', 'f']:\r\n",
    "        if break_now:\r\n",
    "                break\r\n",
    "        for letter3 in ['a', 'b', 'c', 'd', 'e', 'f']:\r\n",
    "            if break_now:\r\n",
    "                break\r\n",
    "            for letter4 in ['a', 'b', 'c', 'd', 'e', 'f']:\r\n",
    "                if break_now:\r\n",
    "                    break\r\n",
    "                \r\n",
    "                password = letter1 + letter2 + letter3 + letter4\r\n",
    "                # print(\"Trying password\", password)\r\n",
    "\r\n",
    "                if login(\"guerzhoy\", password):\r\n",
    "                    break_now = True"
   ],
   "outputs": [
    {
     "output_type": "stream",
     "name": "stdout",
     "text": [
      "adbc is the password\n"
     ]
    }
   ],
   "metadata": {}
  },
  {
   "cell_type": "code",
   "execution_count": 13,
   "source": [
    "def has_duplicates(L):\r\n",
    "    return not len(set(L)) == len(L)\r\n",
    "\r\n",
    "def has_duplicates_2(L):\r\n",
    "    L_sorted = sorted(L)\r\n",
    "\r\n",
    "    for i in range(1, len(L_sorted)):\r\n",
    "        if L_sorted[i] == L_sorted[i-1]:\r\n",
    "            return True\r\n",
    "    \r\n",
    "    return False\r\n",
    "\r\n",
    "L = [1, 5, 6, 1, 7, 9]\r\n",
    "print(has_duplicates(L))\r\n",
    "print(has_duplicates_2(L))"
   ],
   "outputs": [
    {
     "output_type": "stream",
     "name": "stdout",
     "text": [
      "False\n"
     ]
    }
   ],
   "metadata": {}
  },
  {
   "cell_type": "code",
   "execution_count": null,
   "source": [
    "sq = [[2, 9, 4],\r\n",
    "        [1, 5, 6],\r\n",
    "        [7, 8, 7]]\r\n",
    "\r\n",
    "def has_duplicates_sq(sq):\r\n",
    "    sq_flat = []\r\n",
    "\r\n",
    "    for line in sq:\r\n",
    "        sq_flat.extend(line)\r\n",
    "    \r\n",
    "    return has_duplicates_2(sq_flat)"
   ],
   "outputs": [],
   "metadata": {}
  }
 ],
 "metadata": {
  "orig_nbformat": 4,
  "language_info": {
   "name": "python",
   "version": "3.8.5",
   "mimetype": "text/x-python",
   "codemirror_mode": {
    "name": "ipython",
    "version": 3
   },
   "pygments_lexer": "ipython3",
   "nbconvert_exporter": "python",
   "file_extension": ".py"
  },
  "kernelspec": {
   "name": "python3",
   "display_name": "Python 3.8.5 32-bit"
  },
  "interpreter": {
   "hash": "0ecbd8382a990ed695d0ddab139c08db5731c21f09dcf1474fd853a017ac65b1"
  }
 },
 "nbformat": 4,
 "nbformat_minor": 2
}