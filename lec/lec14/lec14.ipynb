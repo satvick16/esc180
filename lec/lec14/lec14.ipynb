{
 "cells": [
  {
   "cell_type": "code",
   "execution_count": null,
   "metadata": {},
   "outputs": [],
   "source": [
    "L1 = [1, 2, 3]\n",
    "# [L1[0], L1[1], L1[2]] shallow copy\n",
    "L1_copy = L1[:]\n",
    "\n",
    "L2 = [[1, 2], 3]\n",
    "# [L2[0], L2[1]]\n",
    "L2_copy = L2[:]\n",
    "\n",
    "# also affects L2_copy\n",
    "L2[0][0] = 5\n",
    "\n",
    "################################################\n",
    "\n",
    "# fix 1:\n",
    "L1 = [[1, 2], [3, 4]]\n",
    "L2 = [[L1[0][0], L1[0][1]], [L1[1][0], L1[1][1]]]\n",
    "L1[0][0] = 5\n",
    "\n",
    "# fix 2: deep copy for lists of lists of integers\n",
    "L2 = []\n",
    "\n",
    "for sublist in L1:\n",
    "    L2.append(sublist[:])\n",
    "\n",
    "# fix 3:"
   ]
  }
 ],
 "metadata": {
  "language_info": {
   "name": "python"
  },
  "orig_nbformat": 4
 },
 "nbformat": 4,
 "nbformat_minor": 2
}
