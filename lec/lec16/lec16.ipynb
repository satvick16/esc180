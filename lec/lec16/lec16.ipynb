{
 "cells": [
  {
   "cell_type": "code",
   "execution_count": null,
   "metadata": {},
   "outputs": [],
   "source": [
    "# str.lower()\n",
    "# str.replace(s1, s2)\n",
    "# sorted()\n",
    "\n",
    "def is_anagram(s1, s2):\n",
    "    return sorted(s1.lower().replace(\" \", \"\")) == sorted(s2.lower().replace(\" \", \"\"))"
   ]
  },
  {
   "cell_type": "code",
   "execution_count": null,
   "metadata": {},
   "outputs": [],
   "source": [
    "num = 180\n",
    "name = \"ESC\"\n",
    "\n",
    "name + str(num)\n",
    "\"%s %d\" % (name, num)\n",
    "\"{}{}\".format(name, num)\n",
    "f\"{name}{num}\"\n",
    "\n",
    "s = \"x = 2\"\n",
    "exec(s)\n",
    "\n",
    "s1 = \"def f():\\n return 42\""
   ]
  },
  {
   "cell_type": "code",
   "execution_count": null,
   "metadata": {},
   "outputs": [],
   "source": [
    "def longest_run(s, c):\n",
    "    '''Return the length of the ongest run of the character c in the string s\n",
    "    '''\n",
    "    for i in range(len(s), 0, -1):\n",
    "        if c * i in s:\n",
    "            return i\n",
    "    \n",
    "    return 0\n",
    "\n",
    "def longest_run_better(s, c):\n",
    "    # state variables:\n",
    "    # run: length of the current run\n",
    "    # max_run: the length of the longest run we saw so far\n",
    "\n",
    "    run, max_run = 0, 0\n",
    "\n",
    "    for ch in s:\n",
    "        if ch != c:\n",
    "            max_run = max(run, max_run)\n",
    "            run = 0\n",
    "        else:\n",
    "            run += 1\n",
    "    \n",
    "    return max(max_run, run)"
   ]
  },
  {
   "cell_type": "code",
   "execution_count": null,
   "metadata": {},
   "outputs": [],
   "source": [
    "def n_as_plus_b(s, n):\n",
    "    '''Return True iff s contains a substring of exactly n \"a\"'s followed by exactly one b'''\n",
    "    # return ((\"a\" * n) + \"b\") in s\n",
    "\n",
    "    cur_run_a = 0\n",
    "\n",
    "    for i in range(len(s)):\n",
    "        if s[i] == \"a\":\n",
    "            cur_run_a += 1\n",
    "        elif s[i] == \"b\":\n",
    "            if cur_run_a == n:\n",
    "                if i == len(s) - 1:\n",
    "                    return True\n",
    "                if s[i+1] != \"b\":\n",
    "                    return True\n",
    "            cur_run_a = 0\n",
    "        else:\n",
    "            cur_run_a = 0\n",
    "    \n",
    "    return False\n"
   ]
  }
 ],
 "metadata": {
  "interpreter": {
   "hash": "0ecbd8382a990ed695d0ddab139c08db5731c21f09dcf1474fd853a017ac65b1"
  },
  "kernelspec": {
   "display_name": "Python 3.8.5 32-bit",
   "name": "python3"
  },
  "language_info": {
   "codemirror_mode": {
    "name": "ipython",
    "version": 3
   },
   "file_extension": ".py",
   "mimetype": "text/x-python",
   "name": "python",
   "nbconvert_exporter": "python",
   "pygments_lexer": "ipython3",
   "version": "3.8.5"
  },
  "orig_nbformat": 4
 },
 "nbformat": 4,
 "nbformat_minor": 2
}
