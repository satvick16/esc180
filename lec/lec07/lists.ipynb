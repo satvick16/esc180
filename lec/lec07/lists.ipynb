{
 "cells": [
  {
   "cell_type": "code",
   "execution_count": null,
   "source": [
    "earnings = [91, 87, 115, 108]\r\n",
    "\r\n",
    "earnings[0]\r\n",
    "earnings[3]\r\n",
    "\r\n",
    "len(earnings)\r\n",
    "\r\n",
    "for i in range(len(earnings)):\r\n",
    "    print(earnings[i])\r\n",
    "\r\n",
    "for amount in earnings:\r\n",
    "    print(amount)\r\n",
    "\r\n",
    "USD_TO_CAD = 1.25\r\n",
    "\r\n",
    "for i in range(len(earnings)):\r\n",
    "    earnings[i] *= USD_TO_CAD\r\n",
    "\r\n",
    "earnings = [earnings[i] * USD_TO_CAD for i in range(len(earnings))]"
   ],
   "outputs": [],
   "metadata": {}
  }
 ],
 "metadata": {
  "orig_nbformat": 4,
  "language_info": {
   "name": "python"
  }
 },
 "nbformat": 4,
 "nbformat_minor": 2
}