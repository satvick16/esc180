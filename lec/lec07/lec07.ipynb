{
 "cells": [
  {
   "cell_type": "code",
   "execution_count": null,
   "source": [
    "a = 5\r\n",
    "a = a + 2\r\n",
    "\r\n",
    "a += 2\r\n",
    "a *= 12"
   ],
   "outputs": [],
   "metadata": {}
  },
  {
   "cell_type": "code",
   "execution_count": null,
   "source": [
    "# n! = 1*2*3...*n\r\n",
    "# find the number of trailing zeros in n!\r\n",
    "\r\n",
    "def fact(n):\r\n",
    "    '''Return n!\r\n",
    "    n is a positive integer'''\r\n",
    "    \r\n",
    "    res = 1\r\n",
    "    \r\n",
    "    for i in range(2, n+1):\r\n",
    "        res *= i\r\n",
    "    \r\n",
    "    return res\r\n",
    "\r\n",
    "def trailing_zeros(n):\r\n",
    "    fact_n = fact(n)\r\n",
    "    counter = 0\r\n",
    "\r\n",
    "    while fact_n % 10 == 0:\r\n",
    "        fact_n //= 10 # integer division\r\n",
    "        counter += 1\r\n",
    "    \r\n",
    "    return counter\r\n",
    "\r\n",
    "if __name__ == \"__main__\":\r\n",
    "    print(trailing_zeros(5000))"
   ],
   "outputs": [],
   "metadata": {}
  }
 ],
 "metadata": {
  "orig_nbformat": 4,
  "language_info": {
   "name": "python",
   "version": "3.8.5",
   "mimetype": "text/x-python",
   "codemirror_mode": {
    "name": "ipython",
    "version": 3
   },
   "pygments_lexer": "ipython3",
   "nbconvert_exporter": "python",
   "file_extension": ".py"
  },
  "kernelspec": {
   "name": "python3",
   "display_name": "Python 3.8.5 32-bit"
  },
  "interpreter": {
   "hash": "0ecbd8382a990ed695d0ddab139c08db5731c21f09dcf1474fd853a017ac65b1"
  }
 },
 "nbformat": 4,
 "nbformat_minor": 2
}