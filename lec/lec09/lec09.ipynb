{
 "cells": [
  {
   "cell_type": "code",
   "execution_count": 4,
   "source": [
    "import random\r\n",
    "\r\n",
    "def approx_pi(n_points):\r\n",
    "    '''Use n_points to approximate pi\r\n",
    "    using a Monte Carlo method\r\n",
    "    '''\r\n",
    "    count = 0\r\n",
    "\r\n",
    "    for i in range(n_points):\r\n",
    "        x1, x2 = random.random(), random.random()\r\n",
    "\r\n",
    "        if (x1**2 + x2**2) < 1:\r\n",
    "            count += 1\r\n",
    "    \r\n",
    "    return count / n_points * 4\r\n",
    "\r\n",
    "print(approx_pi(9999999))"
   ],
   "outputs": [
    {
     "output_type": "stream",
     "name": "stdout",
     "text": [
      "3.1410295141029514\n"
     ]
    }
   ],
   "metadata": {}
  },
  {
   "cell_type": "code",
   "execution_count": 5,
   "source": [
    "def f(x):\r\n",
    "    return (472183412134 * x) % 59\r\n",
    "\r\n",
    "def my_random():\r\n",
    "    global x\r\n",
    "    x = f(x)\r\n",
    "    return x / 59\r\n",
    "\r\n",
    "def initialize():\r\n",
    "    global x\r\n",
    "    x = 3\r\n",
    "\r\n",
    "initialize()\r\n",
    "print(my_random())"
   ],
   "outputs": [
    {
     "output_type": "stream",
     "name": "stdout",
     "text": [
      "0.711864406779661\n"
     ]
    }
   ],
   "metadata": {}
  }
 ],
 "metadata": {
  "orig_nbformat": 4,
  "language_info": {
   "name": "python",
   "version": "3.8.5",
   "mimetype": "text/x-python",
   "codemirror_mode": {
    "name": "ipython",
    "version": 3
   },
   "pygments_lexer": "ipython3",
   "nbconvert_exporter": "python",
   "file_extension": ".py"
  },
  "kernelspec": {
   "name": "python3",
   "display_name": "Python 3.8.5 32-bit"
  },
  "interpreter": {
   "hash": "0ecbd8382a990ed695d0ddab139c08db5731c21f09dcf1474fd853a017ac65b1"
  }
 },
 "nbformat": 4,
 "nbformat_minor": 2
}