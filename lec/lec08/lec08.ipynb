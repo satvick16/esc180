{
 "cells": [
  {
   "cell_type": "code",
   "execution_count": 2,
   "source": [
    "# n!\r\n",
    "# compute the number of trailing zeros\r\n",
    "# issue: computing n! for large n is very slow\r\n",
    "\r\n",
    "# n! = 1*2*3*4...*5*...*2(5)*...*5(5)*...*124*(5*5*5)*126\r\n",
    "\r\n",
    "def multiplicity(n, k):\r\n",
    "    '''Return multiplicity of k in n\r\n",
    "    (n = ...*k^m*..., return m)\r\n",
    "    '''\r\n",
    "    count = 0\r\n",
    "\r\n",
    "    while n % k == 0:\r\n",
    "        n //= k\r\n",
    "        count += 1\r\n",
    "    \r\n",
    "    return count\r\n",
    "\r\n",
    "def trailing_zeros_fast(n):\r\n",
    "    '''Return the number of trailing zeros in n!\r\n",
    "    '''\r\n",
    "\r\n",
    "    factors5 = 0\r\n",
    "\r\n",
    "    for i in range(1, n+1):\r\n",
    "        factors5 += multiplicity(i, 5)\r\n",
    "    \r\n",
    "    return factors5\r\n",
    "\r\n",
    "print(trailing_zeros_fast(50000000))"
   ],
   "outputs": [
    {
     "output_type": "stream",
     "name": "stdout",
     "text": [
      "12499999\n"
     ]
    }
   ],
   "metadata": {}
  },
  {
   "cell_type": "code",
   "execution_count": 3,
   "source": [
    "def is_non_decreasing(L):\r\n",
    "    '''Return True if L is a non-decreasing list, False otherwise\r\n",
    "    >>> is_non_decreasing([1,2,3,3,5]) -> True\r\n",
    "    >>> is_non_decreasing([1,2,3,2,5]) -> False\r\n",
    "    '''\r\n",
    "    for i in range(1, len(L)):\r\n",
    "        if L[i] < L[i-1]:\r\n",
    "            return False\r\n",
    "    \r\n",
    "    return True\r\n",
    "\r\n",
    "print(is_non_decreasing([1,2,3,3,5]))\r\n",
    "print(is_non_decreasing([1,2,3,2,5]))"
   ],
   "outputs": [
    {
     "output_type": "stream",
     "name": "stdout",
     "text": [
      "True\n",
      "False\n"
     ]
    }
   ],
   "metadata": {}
  },
  {
   "cell_type": "code",
   "execution_count": null,
   "source": [
    "def f(x):\r\n",
    "    return x**2\r\n",
    "\r\n",
    "g = f\r\n",
    "print(g(4))\r\n",
    "\r\n",
    "L = [4, \"hello\", f, 2]\r\n",
    "L = [42, 43, [45, 46], 47]\r\n",
    "\r\n",
    "print(L[2][0])\r\n",
    "\r\n",
    "L = [[1, 2, 3, 4], [1, 0, 1, 0], [2, 2, 3, 5]]\r\n",
    "\r\n",
    "L = [5, 6, 10, 2]\r\n",
    "L.insert(2, 42) # insert 42 before index 2\r\n",
    "\r\n",
    "L.insert(-1, 3)\r\n",
    "L.append(3)\r\n",
    "\r\n",
    "L.index(10) # index of 10\r\n",
    "\r\n",
    "6 in L\r\n",
    "12 not in L"
   ],
   "outputs": [],
   "metadata": {}
  },
  {
   "cell_type": "code",
   "execution_count": 5,
   "source": [
    "list(range(2, 10, 2)) # [2, 4, 6, 8]\r\n",
    "\r\n",
    "L = [5, 6, 10, 2, 12, 50, 12, 40, 50, 10]\r\n",
    "\r\n",
    "# slicing\r\n",
    "L[1:8:2] # [6, 2, 50, 40]\r\n",
    "L[9:3:-1]\r\n",
    "L[5::]\r\n",
    "L[::4]\r\n",
    "L[::-1] # reverses list\r\n",
    "\r\n",
    "def slice_manual(L, start, end, step):\r\n",
    "    res = []\r\n",
    "\r\n",
    "    for i in range(start, end, step):\r\n",
    "        res.append(L[i])\r\n",
    "    \r\n",
    "    return res"
   ],
   "outputs": [],
   "metadata": {}
  }
 ],
 "metadata": {
  "orig_nbformat": 4,
  "language_info": {
   "name": "python",
   "version": "3.8.5",
   "mimetype": "text/x-python",
   "codemirror_mode": {
    "name": "ipython",
    "version": 3
   },
   "pygments_lexer": "ipython3",
   "nbconvert_exporter": "python",
   "file_extension": ".py"
  },
  "kernelspec": {
   "name": "python3",
   "display_name": "Python 3.8.5 32-bit"
  },
  "interpreter": {
   "hash": "0ecbd8382a990ed695d0ddab139c08db5731c21f09dcf1474fd853a017ac65b1"
  }
 },
 "nbformat": 4,
 "nbformat_minor": 2
}