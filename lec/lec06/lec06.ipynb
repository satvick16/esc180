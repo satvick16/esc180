{
 "cells": [
  {
   "cell_type": "code",
   "execution_count": 1,
   "source": [
    "# for loops\r\n",
    "\r\n",
    "for i in range(5):\r\n",
    "    print(\"I <3 EngSci\")\r\n",
    "\r\n",
    "for i in range(5):\r\n",
    "    print(2 * i)\r\n",
    "    print(i)\r\n",
    "    print(\"==========\")\r\n",
    "\r\n",
    "\r\n",
    "def my_power(a, n):\r\n",
    "    '''Return a^n, where n is a non-negative integer'''\r\n",
    "    prod = 1\r\n",
    "\r\n",
    "    for i in range(n):\r\n",
    "        prod *= a\r\n",
    "\r\n",
    "    return prod"
   ],
   "outputs": [
    {
     "output_type": "stream",
     "name": "stdout",
     "text": [
      "I <3 EngSci\n",
      "I <3 EngSci\n",
      "I <3 EngSci\n",
      "I <3 EngSci\n",
      "I <3 EngSci\n",
      "0\n",
      "0\n",
      "==========\n",
      "2\n",
      "1\n",
      "==========\n",
      "4\n",
      "2\n",
      "==========\n",
      "6\n",
      "3\n",
      "==========\n",
      "8\n",
      "4\n",
      "==========\n"
     ]
    }
   ],
   "metadata": {}
  },
  {
   "cell_type": "code",
   "execution_count": 2,
   "source": [
    "# while loops\r\n",
    "\r\n",
    "i = 0\r\n",
    "\r\n",
    "while i < 5:\r\n",
    "    print(\"hi\", i)\r\n",
    "    i += 1\r\n",
    "\r\n",
    "for i in range(5):\r\n",
    "    print(\"hi\", i)\r\n",
    "\r\n",
    "\r\n",
    "def my_log(n):\r\n",
    "    '''Compute log_10(n)'''\r\n",
    "    a = 0\r\n",
    "    prod = 1\r\n",
    "\r\n",
    "    while prod < n:\r\n",
    "        prod *= 10\r\n",
    "        a += 1\r\n",
    "\r\n",
    "    return a"
   ],
   "outputs": [
    {
     "output_type": "stream",
     "name": "stdout",
     "text": [
      "hi 0\n",
      "hi 1\n",
      "hi 2\n",
      "hi 3\n",
      "hi 4\n",
      "hi 0\n",
      "hi 1\n",
      "hi 2\n",
      "hi 3\n",
      "hi 4\n"
     ]
    }
   ],
   "metadata": {}
  },
  {
   "cell_type": "code",
   "execution_count": 3,
   "source": [
    "for j in range(10):\r\n",
    "    print(j)\r\n",
    "\r\n",
    "for i in range(5, 15, 2):\r\n",
    "    print(i)\r\n",
    "\r\n",
    "for i in range(10, 3, -1):\r\n",
    "    print(i)"
   ],
   "outputs": [
    {
     "output_type": "stream",
     "name": "stdout",
     "text": [
      "0\n",
      "1\n",
      "2\n",
      "3\n",
      "4\n",
      "5\n",
      "6\n",
      "7\n",
      "8\n",
      "9\n",
      "5\n",
      "7\n",
      "9\n",
      "11\n",
      "13\n",
      "10\n",
      "9\n",
      "8\n",
      "7\n",
      "6\n",
      "5\n",
      "4\n"
     ]
    }
   ],
   "metadata": {}
  },
  {
   "cell_type": "code",
   "execution_count": 4,
   "source": [
    "def is_prime(n):\r\n",
    "    '''Return True iff n is prime, n is an integer'''\r\n",
    "    if n <= 1:\r\n",
    "        return False\r\n",
    "    if n == 2:\r\n",
    "        return True\r\n",
    "\r\n",
    "    for i in range(2, n):\r\n",
    "        if i > 2 and i % 2 == 0:\r\n",
    "            pass\r\n",
    "        else:\r\n",
    "            if n % i == 0:\r\n",
    "                return False\r\n",
    "\r\n",
    "    return True"
   ],
   "outputs": [],
   "metadata": {}
  },
  {
   "cell_type": "code",
   "execution_count": 5,
   "source": [
    "for i in range(10):\r\n",
    "    if i == 5:\r\n",
    "        continue\r\n",
    "\r\n",
    "    print(i)\r\n",
    "\r\n",
    "for i in range(10):\r\n",
    "    if i == 4:\r\n",
    "        break\r\n",
    "\r\n",
    "    print(i)"
   ],
   "outputs": [
    {
     "output_type": "stream",
     "name": "stdout",
     "text": [
      "0\n",
      "1\n",
      "2\n",
      "3\n",
      "4\n",
      "6\n",
      "7\n",
      "8\n",
      "9\n",
      "0\n",
      "1\n",
      "2\n",
      "3\n"
     ]
    }
   ],
   "metadata": {}
  }
 ],
 "metadata": {
  "orig_nbformat": 4,
  "language_info": {
   "name": "python",
   "version": "3.8.5",
   "mimetype": "text/x-python",
   "codemirror_mode": {
    "name": "ipython",
    "version": 3
   },
   "pygments_lexer": "ipython3",
   "nbconvert_exporter": "python",
   "file_extension": ".py"
  },
  "kernelspec": {
   "name": "python3",
   "display_name": "Python 3.8.5 32-bit"
  },
  "interpreter": {
   "hash": "0ecbd8382a990ed695d0ddab139c08db5731c21f09dcf1474fd853a017ac65b1"
  }
 },
 "nbformat": 4,
 "nbformat_minor": 2
}